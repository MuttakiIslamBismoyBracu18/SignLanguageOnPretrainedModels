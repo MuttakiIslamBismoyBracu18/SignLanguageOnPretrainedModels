{
 "cells": [
  {
   "cell_type": "code",
   "execution_count": 1,
   "id": "a3772f0b",
   "metadata": {},
   "outputs": [],
   "source": [
    "import os\n",
    "import numpy as np\n",
    "from tensorflow.keras.preprocessing.image import ImageDataGenerator, img_to_array, load_img, array_to_img"
   ]
  },
  {
   "cell_type": "code",
   "execution_count": 2,
   "id": "2a8c5b45",
   "metadata": {},
   "outputs": [],
   "source": [
    "# Define the base directory where the dataset is stored\n",
    "base_dir = 'E:/Undergrad Research/DATASET_MIXED/Train/'  # Replace with your directory path"
   ]
  },
  {
   "cell_type": "code",
   "execution_count": 3,
   "id": "c89a0c33",
   "metadata": {},
   "outputs": [],
   "source": [
    "# Create an instance of the ImageDataGenerator with augmentation options\n",
    "datagen = ImageDataGenerator(\n",
    "    rotation_range=40,\n",
    "    width_shift_range=0.2,\n",
    "    height_shift_range=0.2,\n",
    "    shear_range=0.2,\n",
    "    zoom_range=0.2,\n",
    "    horizontal_flip=True,\n",
    "    fill_mode='nearest'\n",
    ")"
   ]
  },
  {
   "cell_type": "code",
   "execution_count": 4,
   "id": "a4f3a225",
   "metadata": {},
   "outputs": [],
   "source": [
    "# Function to augment images in a given directory\n",
    "def augment_images(directory, num_augmented=8):\n",
    "    for subdir, _, files in os.walk(directory):\n",
    "        for file in files:\n",
    "            if file.endswith(('jpg', 'jpeg', 'png')):\n",
    "                img_path = os.path.join(subdir, file)\n",
    "                img = load_img(img_path)  # Load the image\n",
    "                x = img_to_array(img)  # Convert the image to a numpy array\n",
    "                x = np.expand_dims(x, axis=0)  # Reshape the array\n",
    "                \n",
    "                # Generate augmented images and save them to the same directory\n",
    "                i = 0\n",
    "                for batch in datagen.flow(x, batch_size=1, save_to_dir=subdir, save_prefix='aug', save_format='jpeg'):\n",
    "                    i += 1\n",
    "                    if i >= num_augmented:\n",
    "                        break  # Stop after generating the specified number of augmented images"
   ]
  },
  {
   "cell_type": "code",
   "execution_count": 5,
   "id": "d99addbd",
   "metadata": {},
   "outputs": [],
   "source": [
    "# Run the augmentation function on the base directory\n",
    "augment_images(base_dir)"
   ]
  },
  {
   "cell_type": "code",
   "execution_count": null,
   "id": "122a39c8",
   "metadata": {},
   "outputs": [],
   "source": []
  }
 ],
 "metadata": {
  "kernelspec": {
   "display_name": "Python 3 (ipykernel)",
   "language": "python",
   "name": "python3"
  },
  "language_info": {
   "codemirror_mode": {
    "name": "ipython",
    "version": 3
   },
   "file_extension": ".py",
   "mimetype": "text/x-python",
   "name": "python",
   "nbconvert_exporter": "python",
   "pygments_lexer": "ipython3",
   "version": "3.11.5"
  }
 },
 "nbformat": 4,
 "nbformat_minor": 5
}
